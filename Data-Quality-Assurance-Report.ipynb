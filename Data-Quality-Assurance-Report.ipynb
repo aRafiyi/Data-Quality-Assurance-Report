{
 "cells": [
  {
   "cell_type": "markdown",
   "id": "experimental-fields",
   "metadata": {},
   "source": [
    "# Data Quality Assurance Report\n",
    "\n",
    "In the following, we use `pandas_profiling` to create a quality report of a dataset, as a step in providing a QA report. \n",
    "\n",
    "The dataset file `telecom.csv`, accompanied by this notebook, is a dataset with target variable `churnid` indicating if a customer of a telecommunication company has churned. Here, we use a very small portion of the dataset to decrease the final notebook size to satisfy Github's file size requiremnet, to less than 25M.\n",
    "\n",
    "The data description file `telecom_info.xlsx` is also available.\n",
    "\n",
    "### Setup"
   ]
  },
  {
   "cell_type": "code",
   "execution_count": 1,
   "id": "disciplinary-opportunity",
   "metadata": {},
   "outputs": [],
   "source": [
    "# import the required libraries\n",
    "import numpy as np\n",
    "import pandas as pd\n",
    "import seaborn as sns\n",
    "import matplotlib.pyplot as plt\n",
    "from pandas_profiling import ProfileReport"
   ]
  },
  {
   "cell_type": "code",
   "execution_count": 2,
   "id": "phantom-share",
   "metadata": {},
   "outputs": [],
   "source": [
    "# read csv file and create a dataframe\n",
    "data = pd.read_csv(\"telecom.csv\")"
   ]
  },
  {
   "cell_type": "code",
   "execution_count": 3,
   "id": "convertible-terrorism",
   "metadata": {},
   "outputs": [
    {
     "data": {
      "application/vnd.jupyter.widget-view+json": {
       "model_id": "c1325a4a8c6c4c1d8972c2a35b102fcb",
       "version_major": 2,
       "version_minor": 0
      },
      "text/plain": [
       "Summarize dataset:   0%|          | 0/40 [00:00<?, ?it/s]"
      ]
     },
     "metadata": {},
     "output_type": "display_data"
    },
    {
     "data": {
      "application/vnd.jupyter.widget-view+json": {
       "model_id": "9c20a21696e54d1ab63e57d51585bac5",
       "version_major": 2,
       "version_minor": 0
      },
      "text/plain": [
       "Generate report structure:   0%|          | 0/1 [00:00<?, ?it/s]"
      ]
     },
     "metadata": {},
     "output_type": "display_data"
    },
    {
     "data": {
      "application/vnd.jupyter.widget-view+json": {
       "model_id": "",
       "version_major": 2,
       "version_minor": 0
      },
      "text/plain": [
       "Render widgets:   0%|          | 0/1 [00:00<?, ?it/s]"
      ]
     },
     "metadata": {},
     "output_type": "display_data"
    },
    {
     "data": {
      "application/vnd.jupyter.widget-view+json": {
       "model_id": "4dd1a528d1ee4739bcb2743caf304775",
       "version_major": 2,
       "version_minor": 0
      },
      "text/plain": [
       "VBox(children=(Tab(children=(Tab(children=(GridBox(children=(VBox(children=(GridspecLayout(children=(HTML(valu…"
      ]
     },
     "metadata": {},
     "output_type": "display_data"
    }
   ],
   "source": [
    "# get data profiling\n",
    "profile = ProfileReport(data, title=\"Data Quality Report\")\n",
    "#profile.to_notebook_iframe()     # for HTML report\n",
    "profile.to_widgets()             # for widget report"
   ]
  },
  {
   "cell_type": "markdown",
   "id": "exact-kentucky",
   "metadata": {},
   "source": [
    "  "
   ]
  }
 ],
 "metadata": {
  "kernelspec": {
   "display_name": "Python 3",
   "language": "python",
   "name": "python3"
  },
  "language_info": {
   "codemirror_mode": {
    "name": "ipython",
    "version": 3
   },
   "file_extension": ".py",
   "mimetype": "text/x-python",
   "name": "python",
   "nbconvert_exporter": "python",
   "pygments_lexer": "ipython3",
   "version": "3.8.5"
  }
 },
 "nbformat": 4,
 "nbformat_minor": 5
}
