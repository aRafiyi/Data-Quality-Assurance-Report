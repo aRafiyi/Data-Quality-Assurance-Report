{
 "cells": [
  {
   "cell_type": "markdown",
   "id": "different-strategy",
   "metadata": {},
   "source": [
    "# Data Quality Assurance Report\n",
    "\n",
    "In the following, we use [`pandas_profiling`](https://pandas-profiling.github.io/pandas-profiling/docs/master/rtd/index.html) to create a quality report of a dataset, as a step in providing a QA report. \n",
    "\n",
    "The dataset file `telecom.csv`, accompanied by this notebook, is a dataset with target variable `churnid` indicating if a customer of a telecommunication company has churned. Here, we use a very small portion of the dataset to decrease the final notebook size to satisfy Github's file size requiremnet, to less than 25M.\n",
    "\n",
    "The data description file `telecom_info.xlsx` is also available.\n",
    "\n",
    "### Setup"
   ]
  },
  {
   "cell_type": "code",
   "execution_count": 1,
   "id": "rapid-sleeping",
   "metadata": {},
   "outputs": [],
   "source": [
    "# import the required libraries\n",
    "import numpy as np\n",
    "import pandas as pd\n",
    "import seaborn as sns\n",
    "import matplotlib.pyplot as plt\n",
    "from pandas_profiling import ProfileReport"
   ]
  },
  {
   "cell_type": "code",
   "execution_count": 2,
   "id": "laughing-execution",
   "metadata": {},
   "outputs": [],
   "source": [
    "# read csv file and create a dataframe\n",
    "data = pd.read_csv(\"telecom.csv\")"
   ]
  },
  {
   "cell_type": "code",
   "execution_count": 3,
   "id": "fantastic-furniture",
   "metadata": {},
   "outputs": [],
   "source": [
    "# get data profiling\n",
    "profile = ProfileReport(data, \n",
    "                        title=\"Data Quality Report\",\n",
    "                       # minimal=True\n",
    "                       )\n",
    "# display the report in widget or HTML format\n",
    "#profile.to_widgets()             # for widget report\n",
    "#profile.to_notebook_iframe()     # for HTML report"
   ]
  },
  {
   "cell_type": "markdown",
   "id": "brief-crystal",
   "metadata": {},
   "source": [
    "**Remark:** We can create the report using \n",
    "\n",
    "- `profile.to_widgets()` for widget report\n",
    "- `profile.to_notebook_iframe()` for HTML report\n",
    "\n",
    "However, the created report will not be displayed when we reopen the notebook. Indeed, the `to_notebook_iframe` above (in the HTML case) does not actually return anything, except it uses the IPython display function to display the output in the notebook. As a workaround, we save generate a HTML report file as follows."
   ]
  },
  {
   "cell_type": "code",
   "execution_count": 4,
   "id": "civil-helmet",
   "metadata": {},
   "outputs": [
    {
     "data": {
      "application/vnd.jupyter.widget-view+json": {
       "model_id": "ab5c3702750f4202a1828a7ac51f20d8",
       "version_major": 2,
       "version_minor": 0
      },
      "text/plain": [
       "Summarize dataset:   0%|          | 0/40 [00:00<?, ?it/s]"
      ]
     },
     "metadata": {},
     "output_type": "display_data"
    },
    {
     "data": {
      "application/vnd.jupyter.widget-view+json": {
       "model_id": "4aba231a0c0c409d828f0b64e32bb50d",
       "version_major": 2,
       "version_minor": 0
      },
      "text/plain": [
       "Generate report structure:   0%|          | 0/1 [00:00<?, ?it/s]"
      ]
     },
     "metadata": {},
     "output_type": "display_data"
    },
    {
     "data": {
      "application/vnd.jupyter.widget-view+json": {
       "model_id": "5e02be41059e4dd9a56bd1ae3ba2b9f1",
       "version_major": 2,
       "version_minor": 0
      },
      "text/plain": [
       "Render HTML:   0%|          | 0/1 [00:00<?, ?it/s]"
      ]
     },
     "metadata": {},
     "output_type": "display_data"
    },
    {
     "data": {
      "application/vnd.jupyter.widget-view+json": {
       "model_id": "c7a8af86d1f8495b9092bb1ee4156bf0",
       "version_major": 2,
       "version_minor": 0
      },
      "text/plain": [
       "Export report to file:   0%|          | 0/1 [00:00<?, ?it/s]"
      ]
     },
     "metadata": {},
     "output_type": "display_data"
    }
   ],
   "source": [
    "# generate a HTML report file\n",
    "profile.to_file('profile_report.html')"
   ]
  },
  {
   "cell_type": "markdown",
   "id": "muslim-measure",
   "metadata": {},
   "source": [
    "Now, we can refer to the saved (accompanied) html file `profile_report.html` to see the report."
   ]
  },
  {
   "cell_type": "markdown",
   "id": "wired-theorem",
   "metadata": {},
   "source": [
    "Yet, another way to create a report, which is displayed in the saved notebook after reopening it, is to use Python's `Panel` library: see [here](https://pypi.org/project/panel/), [here](https://panel.holoviz.org/index.html), and [here](https://discourse.holoviz.org/t/cant-display-pandas-profiling-report/760)."
   ]
  },
  {
   "cell_type": "markdown",
   "id": "eleven-equation",
   "metadata": {},
   "source": [
    "  "
   ]
  }
 ],
 "metadata": {
  "kernelspec": {
   "display_name": "Python 3",
   "language": "python",
   "name": "python3"
  },
  "language_info": {
   "codemirror_mode": {
    "name": "ipython",
    "version": 3
   },
   "file_extension": ".py",
   "mimetype": "text/x-python",
   "name": "python",
   "nbconvert_exporter": "python",
   "pygments_lexer": "ipython3",
   "version": "3.8.5"
  }
 },
 "nbformat": 4,
 "nbformat_minor": 5
}
